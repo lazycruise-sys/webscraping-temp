{
 "cells": [
  {
   "cell_type": "code",
   "execution_count": 2,
   "id": "fa6f7b75",
   "metadata": {},
   "outputs": [],
   "source": [
    "# url to be scraped\n",
    "url = 'https://news.ycombinator.com'"
   ]
  },
  {
   "cell_type": "code",
   "execution_count": 3,
   "id": "b715b7c0",
   "metadata": {},
   "outputs": [
    {
     "data": {
      "text/plain": [
       "'<html lang=\"en\" op=\"news\"><head><meta name=\"referrer\" content=\"origin\"><meta name=\"viewport\" content=\"width=device-width, initial-scale=1.0\"><link rel=\"stylesheet\" type=\"text/css\" href=\"news.css?kINVYarBkE7QJ6FelfS3\">\\n        <link rel=\"shortcut icon\" href=\"favicon.ico\">\\n          <link rel=\"alternate\" type=\"application/rss+xml\" title=\"RSS\" href=\"rss\">\\n        <title>Hacker News</title></head><body><center><table id=\"hnmain\" border=\"0\" cellpadding=\"0\" cellspacing=\"0\" width=\"85%\" bgcolor=\"#f6f6ef\">\\n        <tr><td bgcolor=\"#ff6600\"><table border=\"0\" cellpadding=\"0\" cellspacing=\"0\" width=\"100%\" style=\"padding:2px\"><tr><td style=\"width:18px;padding-right:4px\"><a href=\"https://news.ycombinator.com\"><img src=\"y18.gif\" width=\"18\" height=\"18\" style=\"border:1px white solid;\"></a></td>\\n                  <td style=\"line-height:12pt; height:10px;\"><span class=\"pagetop\"><b class=\"hnname\"><a href=\"news\">Hacker News</a></b>\\n              <a href=\"newest\">new</a> | <a href=\"front\">past</a> | <a href=\"newcomments\">comments</a> | <a href=\"ask\">ask</a> | <a href=\"show\">show</a> | <a href=\"jobs\">jobs</a> | <a href=\"submit\">submit</a>            </span></td><td style=\"text-align:right;padding-right:4px;\"><span class=\"pagetop\">\\n                              <a href=\"login?goto=news\">login</a>\\n                          </span></td>\\n              </tr></table></td></tr>\\n<tr id=\"pagespace\" title=\"\" style=\"height:10px\"></tr><tr><td><table border=\"0\" cellpadding=\"0\" cellspacing=\"0\" class=\"itemlist\">\\n              <tr class=\\'athing\\' id=\\'28927844\\'>\\n      <td align=\"right\" valign=\"top\" class=\"title\"><span class=\"rank\">1.</span></td>      <td valign=\"top\" class=\"votelinks\"><center><a id=\\'up_28927844\\' href=\\'vote?id=28927844&amp;how=up&amp;goto=news\\'><div class=\\'votearrow\\' title=\\'upvote\\'></div></a></center></td><td class=\"title\"><a href=\"https://gloswielkopolski.pl/smierc-w-amazonie-potraktowali-go-jak-typowy-odpad-jak-smiecia-czy-49letni-pracownik-amazona-musial-umrzec/ar/c1-15844965\" class=\"titlelink\">Polish Amazon warehouse employee dies of overworking at 49</a><span class=\"sitebit comhead\"> (<a href=\"from?site=gloswielkopolski.pl\"><span class=\"sitestr\">gloswielkopolski.pl</span></a>)</span></td></tr><tr><td colspan=\"2\"></td><td class=\"subtext\">\\n        <span class=\"score\" id=\"score_28927844\">192 points</span> by <a href=\"user?id=nathell\" class=\"hnuser\">nathell</a> <span class=\"age\" title=\"2021-10-20T07:35:57\"><a href=\"item?id=28927844\">2 hours ago</a></span> <span id=\"unv_28927844\"></span> | <a href=\"hide?id=28927844&amp;goto=news\">hide</a> | <a href=\"item?id=28927844\">102&nbsp;comments</a>              </td></tr>\\n      <tr class=\"spacer\" style=\"height:5px\"></tr>\\n                <tr class=\\'athing\\' id=\\'28926582\\'>\\n      <td align=\"right\" valign=\"top\" class=\"title\"><span class=\"rank\">2.</span></td>      <td valign=\"top\" class=\"votelinks\"><center><a id=\\'up_28926582\\' href=\\'vote?id=28926582&amp;how=up&amp;goto=news\\'><div class=\\'votearrow\\' title=\\'upvote\\'></div></a></center></td><td class=\"title\"><a href=\"https://brave.com/search-and-web-discovery/\" class=\"titlelink\">Brave Search replaces Google as default search engine in the Brave browser</a><span class=\"sitebit comhead\"> (<a href=\"from?site=brave.com\"><span class=\"sitestr\">brave.com</span></a>)</span></td></tr><tr><td colspan=\"2\"></td><td class=\"subtext\">\\n        <span class=\"score\" id=\"score_28926582\">332 points</span> by <a href=\"user?id=skellertor\" class=\"hnuser\">skellertor</a> <span class=\"age\" title=\"2021-10-20T03:56:51\"><a href=\"item?id=28926582\">6 hours ago</a></span> <span id=\"unv_28926582\"></span> | <a href=\"hide?id=28926582&amp;goto=news\">hide</a> | <a href=\"item?id=28926582\">227&nbsp;comments</a>              </td></tr>\\n      <tr class=\"spacer\" style=\"height:5px\"></tr>\\n                <tr class=\\'athing\\' id=\\'28927064\\'>\\n      <td align=\"right\" valign=\"top\" class=\"title\"><span class=\"rank\">3.</span></td>      <td valign=\"top\" class=\"votelinks\"><center><a id=\\'up_28927064\\' href=\\'vote?id=28927064&amp;how=up&amp;goto=news\\'><div class=\\'votearrow\\' title=\\'upvote\\'></div></a></center></td><td class=\"title\"><a href=\"https://kristerw.github.io/2021/10/19/fast-math/\" class=\"titlelink\">Optimizations Enabled by -ffast-Math</a><span class=\"sitebit comhead\"> (<a href=\"from?site=kristerw.github.io\"><span class=\"sitestr\">kristerw.github.io</span></a>)</span></td></tr><tr><td colspan=\"2\"></td><td class=\"subtext\">\\n        <span class=\"score\" id=\"score_28927064\">98 points</span> by <a href=\"user?id=bwidlar\" class=\"hnuser\">bwidlar</a> <span class=\"age\" title=\"2021-10-20T05:24:36\"><a href=\"item?id=28927064\">4 hours ago</a></span> <span id=\"unv_28927064\"></span> | <a href=\"hide?id=28927064&amp;goto=news\">hide</a> | <a href=\"item?id=28927064\">41&nbsp;comments</a>              </td></tr>\\n      <tr class=\"spacer\" style=\"height:5px\"></tr>\\n                <tr class=\\'athing\\' id=\\'28926741\\'>\\n      <td align=\"right\" valign=\"top\" class=\"title\"><span class=\"rank\">4.</span></td>      <td valign=\"top\" class=\"votelinks\"><center><a id=\\'up_28926741\\' href=\\'vote?id=28926741&amp;how=up&amp;goto=news\\'><div class=\\'votearrow\\' title=\\'upvote\\'></div></a></center></td><td class=\"title\"><a href=\"https://forum.kicad.info/t/warning-avoid-all-links-to-kicad-pcb-org-use-kicad-org/31521\" class=\"titlelink\">Avoid all links to kicad-pcb.org – Use kicad.org</a><span class=\"sitebit comhead\"> (<a href=\"from?site=kicad.info\"><span class=\"sitestr\">kicad.info</span></a>)</span></td></tr><tr><td colspan=\"2\"></td><td class=\"subtext\">\\n        <span class=\"score\" id=\"score_28926741\">116 points</span> by <a href=\"user?id=1MachineElf\" class=\"hnuser\">1MachineElf</a> <span class=\"age\" title=\"2021-10-20T04:24:42\"><a href=\"item?id=28926741\">5 hours ago</a></span> <span id=\"unv_28926741\"></span> | <a href=\"hide?id=28926741&amp;goto=news\">hide</a> | <a href=\"item?id=28926741\">28&nbsp;comments</a>              </td></tr>\\n      <tr class=\"spacer\" style=\"height:5px\"></tr>\\n                <tr class=\\'athing\\' id=\\'28926426\\'>\\n      <td align=\"right\" valign=\"top\" class=\"title\"><span class=\"rank\">5.</span></td>      <td valign=\"top\" class=\"votelinks\"><center><a id=\\'up_28926426\\' href=\\'vote?id=28926426&amp;how=up&amp;goto=news\\'><div class=\\'votearrow\\' title=\\'upvote\\'></div></a></center></td><td class=\"title\"><a href=\"https://googleprojectzero.blogspot.com/2021/10/how-simple-linux-kernel-memory.html\" class=\"titlelink\">Simple Linux kernel memory corruption bug can lead to complete system compromise</a><span class=\"sitebit comhead\"> (<a href=\"from?site=googleprojectzero.blogspot.com\"><span class=\"sitestr\">googleprojectzero.blogspot.com</span></a>)</span></td></tr><tr><td colspan=\"2\"></td><td class=\"subtext\">\\n        <span class=\"score\" id=\"score_28926426\">101 points</span> by <a href=\"user?id=pabs3\" class=\"hnuser\">pabs3</a> <span class=\"age\" title=\"2021-10-20T03:29:05\"><a href=\"item?id=28926426\">6 hours ago</a></span> <span id=\"unv_28926426\"></span> | <a href=\"hide?id=28926426&amp;goto=news\">hide</a> | <a href=\"item?id=28926426\">36&nbsp;comments</a>              </td></tr>\\n      <tr class=\"spacer\" style=\"height:5px\"></tr>\\n                <tr class=\\'athing\\' id=\\'28927203\\'>\\n      <td align=\"right\" valign=\"top\" class=\"title\"><span class=\"rank\">6.</span></td>      <td valign=\"top\" class=\"votelinks\"><center><a id=\\'up_28927203\\' href=\\'vote?id=28927203&amp;how=up&amp;goto=news\\'><div class=\\'votearrow\\' title=\\'upvote\\'></div></a></center></td><td class=\"title\"><a href=\"https://portswigger.net/daily-swig/google-mozilla-close-to-finalizing-sanitizer-api-for-chrome-and-firefox-browsers\" class=\"titlelink\">Google, Mozilla Close to Finalizing Sanitizer API for Chrome and Firefox Browse</a><span class=\"sitebit comhead\"> (<a href=\"from?site=portswigger.net\"><span class=\"sitestr\">portswigger.net</span></a>)</span></td></tr><tr><td colspan=\"2\"></td><td class=\"subtext\">\\n        <span class=\"score\" id=\"score_28927203\">56 points</span> by <a href=\"user?id=todsacerdoti\" class=\"hnuser\">todsacerdoti</a> <span class=\"age\" title=\"2021-10-20T05:47:33\"><a href=\"item?id=28927203\">4 hours ago</a></span> <span id=\"unv_28927203\"></span> | <a href=\"hide?id=28927203&amp;goto=news\">hide</a> | <a href=\"item?id=28927203\">23&nbsp;comments</a>              </td></tr>\\n      <tr class=\"spacer\" style=\"height:5px\"></tr>\\n                <tr class=\\'athing\\' id=\\'28927794\\'>\\n      <td align=\"right\" valign=\"top\" class=\"title\"><span class=\"rank\">7.</span></td>      <td valign=\"top\" class=\"votelinks\"><center><a id=\\'up_28927794\\' href=\\'vote?id=28927794&amp;how=up&amp;goto=news\\'><div class=\\'votearrow\\' title=\\'upvote\\'></div></a></center></td><td class=\"title\"><a href=\"https://www.reuters.com/technology/ai-can-see-through-you-ceos-language-under-machine-microscope-2021-10-20/\" class=\"titlelink\">AI can see through you: CEOs\\' language under machine microscope</a><span class=\"sitebit comhead\"> (<a href=\"from?site=reuters.com\"><span class=\"sitestr\">reuters.com</span></a>)</span></td></tr><tr><td colspan=\"2\"></td><td class=\"subtext\">\\n        <span class=\"score\" id=\"score_28927794\">20 points</span> by <a href=\"user?id=pseudolus\" class=\"hnuser\">pseudolus</a> <span class=\"age\" title=\"2021-10-20T07:27:50\"><a href=\"item?id=28927794\">2 hours ago</a></span> <span id=\"unv_28927794\"></span> | <a href=\"hide?id=28927794&amp;goto=news\">hide</a> | <a href=\"item?id=28927794\">3&nbsp;comments</a>              </td></tr>\\n      <tr class=\"spacer\" style=\"height:5px\"></tr>\\n                <tr class=\\'athing\\' id=\\'28925148\\'>\\n      <td align=\"right\" valign=\"top\" class=\"title\"><span class=\"rank\">8.</span></td>      <td valign=\"top\" class=\"votelinks\"><center><a id=\\'up_28925148\\' href=\\'vote?id=28925148&amp;how=up&amp;goto=news\\'><div class=\\'votearrow\\' title=\\'upvote\\'></div></a></center></td><td class=\"title\"><a href=\"https://spectrum.ieee.org/optical-switch-1000x-faster-transistors\" class=\"titlelink\">New Optical Switch Up to 1000x Faster Than Transistors</a><span class=\"sitebit comhead\"> (<a href=\"from?site=ieee.org\"><span class=\"sitestr\">ieee.org</span></a>)</span></td></tr><tr><td colspan=\"2\"></td><td class=\"subtext\">\\n        <span class=\"score\" id=\"score_28925148\">175 points</span> by <a href=\"user?id=ofou\" class=\"hnuser\">ofou</a> <span class=\"age\" title=\"2021-10-19T23:45:09\"><a href=\"item?id=28925148\">10 hours ago</a></span> <span id=\"unv_28925148\"></span> | <a href=\"hide?id=28925148&amp;goto=news\">hide</a> | <a href=\"item?id=28925148\">60&nbsp;comments</a>              </td></tr>\\n      <tr class=\"spacer\" style=\"height:5px\"></tr>\\n                <tr class=\\'athing\\' id=\\'28928550\\'>\\n      <td align=\"right\" valign=\"top\" class=\"title\"><span class=\"rank\">9.</span></td>      <td valign=\"top\" class=\"votelinks\"><center><a id=\\'up_28928550\\' href=\\'vote?id=28928550&amp;how=up&amp;goto=news\\'><div class=\\'votearrow\\' title=\\'upvote\\'></div></a></center></td><td class=\"title\"><a href=\"https://thehtime.com\" class=\"titlelink\" rel=\"nofollow\">Show HN: Combining UTC and local times (time zones) in one new clock</a><span class=\"sitebit comhead\"> (<a href=\"from?site=thehtime.com\"><span class=\"sitestr\">thehtime.com</span></a>)</span></td></tr><tr><td colspan=\"2\"></td><td class=\"subtext\">\\n        <span class=\"score\" id=\"score_28928550\">6 points</span> by <a href=\"user?id=hhebbo\" class=\"hnuser\">hhebbo</a> <span class=\"age\" title=\"2021-10-20T09:20:49\"><a href=\"item?id=28928550\">58 minutes ago</a></span> <span id=\"unv_28928550\"></span> | <a href=\"hide?id=28928550&amp;goto=news\">hide</a> | <a href=\"item?id=28928550\">2&nbsp;comments</a>              </td></tr>\\n      <tr class=\"spacer\" style=\"height:5px\"></tr>\\n                <tr class=\\'athing\\' id=\\'28905182\\'>\\n      <td align=\"right\" valign=\"top\" class=\"title\"><span class=\"rank\">10.</span></td>      <td valign=\"top\" class=\"votelinks\"><center><a id=\\'up_28905182\\' href=\\'vote?id=28905182&amp;how=up&amp;goto=news\\'><div class=\\'votearrow\\' title=\\'upvote\\'></div></a></center></td><td class=\"title\"><a href=\"https://www.wsj.com/articles/writer-liu-cixin-on-how-his-visions-of-the-future-collide-with-reality-11633446000\" class=\"titlelink\">Writer Liu Cixin on How His Visions of the Future Collide with Reality</a><span class=\"sitebit comhead\"> (<a href=\"from?site=wsj.com\"><span class=\"sitestr\">wsj.com</span></a>)</span></td></tr><tr><td colspan=\"2\"></td><td class=\"subtext\">\\n        <span class=\"score\" id=\"score_28905182\">49 points</span> by <a href=\"user?id=gumby\" class=\"hnuser\">gumby</a> <span class=\"age\" title=\"2021-10-18T13:24:13\"><a href=\"item?id=28905182\">4 hours ago</a></span> <span id=\"unv_28905182\"></span> | <a href=\"hide?id=28905182&amp;goto=news\">hide</a> | <a href=\"item?id=28905182\">38&nbsp;comments</a>              </td></tr>\\n      <tr class=\"spacer\" style=\"height:5px\"></tr>\\n                <tr class=\\'athing\\' id=\\'28924751\\'>\\n      <td align=\"right\" valign=\"top\" class=\"title\"><span class=\"rank\">11.</span></td>      <td valign=\"top\" class=\"votelinks\"><center><a id=\\'up_28924751\\' href=\\'vote?id=28924751&amp;how=up&amp;goto=news\\'><div class=\\'votearrow\\' title=\\'upvote\\'></div></a></center></td><td class=\"title\"><a href=\"https://knowingless.com/2021/10/19/becoming-a-whorelord-the-overly-analytical-guide-to-escorting/\" class=\"titlelink\">Overly analytical guide to escorting</a><span class=\"sitebit comhead\"> (<a href=\"from?site=knowingless.com\"><span class=\"sitestr\">knowingless.com</span></a>)</span></td></tr><tr><td colspan=\"2\"></td><td class=\"subtext\">\\n        <span class=\"score\" id=\"score_28924751\">479 points</span> by <a href=\"user?id=exolymph\" class=\"hnuser\">exolymph</a> <span class=\"age\" title=\"2021-10-19T22:53:12\"><a href=\"item?id=28924751\">10 hours ago</a></span> <span id=\"unv_28924751\"></span> | <a href=\"hide?id=28924751&amp;goto=news\">hide</a> | <a href=\"item?id=28924751\">211&nbsp;comments</a>              </td></tr>\\n      <tr class=\"spacer\" style=\"height:5px\"></tr>\\n                <tr class=\\'athing\\' id=\\'28928738\\'>\\n      <td align=\"right\" valign=\"top\" class=\"title\"><span class=\"rank\">12.</span></td>      <td valign=\"top\" class=\"votelinks\"><center><a id=\\'up_28928738\\' href=\\'vote?id=28928738&amp;how=up&amp;goto=news\\'><div class=\\'votearrow\\' title=\\'upvote\\'></div></a></center></td><td class=\"title\"><a href=\"https://www.theguardian.com/world/2021/jan/14/carbon-neutrality-is-a-fairy-tale-how-the-race-for-renewables-is-burning-europes-forests\" class=\"titlelink\">Carbon-neutrality is a tale: the race for renewables is burning Europe\\'s forests</a><span class=\"sitebit comhead\"> (<a href=\"from?site=theguardian.com\"><span class=\"sitestr\">theguardian.com</span></a>)</span></td></tr><tr><td colspan=\"2\"></td><td class=\"subtext\">\\n        <span class=\"score\" id=\"score_28928738\">18 points</span> by <a href=\"user?id=ericdanielski\" class=\"hnuser\">ericdanielski</a> <span class=\"age\" title=\"2021-10-20T09:47:02\"><a href=\"item?id=28928738\">32 minutes ago</a></span> <span id=\"unv_28928738\"></span> | <a href=\"hide?id=28928738&amp;goto=news\">hide</a> | <a href=\"item?id=28928738\">4&nbsp;comments</a>              </td></tr>\\n      <tr class=\"spacer\" style=\"height:5px\"></tr>\\n                <tr class=\\'athing\\' id=\\'28927643\\'>\\n      <td align=\"right\" valign=\"top\" class=\"title\"><span class=\"rank\">13.</span></td>      <td></td><td class=\"title\"><a href=\"https://jobs.lever.co/getjerry/8a65340f-f253-4da6-8259-ad1fe527a7e8\" class=\"titlelink\" rel=\"nofollow\">Jerry (YC S17) Is Hiring Senior Software Engineer</a><span class=\"sitebit comhead\"> (<a href=\"from?site=lever.co\"><span class=\"sitestr\">lever.co</span></a>)</span></td></tr><tr><td colspan=\"2\"></td><td class=\"subtext\">\\n        <span class=\"age\" title=\"2021-10-20T07:02:15\"><a href=\"item?id=28927643\">3 hours ago</a></span> | <a href=\"hide?id=28927643&amp;goto=news\">hide</a>      </td></tr>\\n      <tr class=\"spacer\" style=\"height:5px\"></tr>\\n                <tr class=\\'athing\\' id=\\'28914986\\'>\\n      <td align=\"right\" valign=\"top\" class=\"title\"><span class=\"rank\">14.</span></td>      <td valign=\"top\" class=\"votelinks\"><center><a id=\\'up_28914986\\' href=\\'vote?id=28914986&amp;how=up&amp;goto=news\\'><div class=\\'votearrow\\' title=\\'upvote\\'></div></a></center></td><td class=\"title\"><a href=\"https://blogs.bl.uk/asian-and-african/2021/10/who-reads-digitised-malay-manuscripts.html\" class=\"titlelink\">Who reads digitised Malay manuscripts?</a><span class=\"sitebit comhead\"> (<a href=\"from?site=blogs.bl.uk\"><span class=\"sitestr\">blogs.bl.uk</span></a>)</span></td></tr><tr><td colspan=\"2\"></td><td class=\"subtext\">\\n        <span class=\"score\" id=\"score_28914986\">31 points</span> by <a href=\"user?id=diodorus\" class=\"hnuser\">diodorus</a> <span class=\"age\" title=\"2021-10-19T04:53:30\"><a href=\"item?id=28914986\">5 hours ago</a></span> <span id=\"unv_28914986\"></span> | <a href=\"hide?id=28914986&amp;goto=news\">hide</a> | <a href=\"item?id=28914986\">5&nbsp;comments</a>              </td></tr>\\n      <tr class=\"spacer\" style=\"height:5px\"></tr>\\n                <tr class=\\'athing\\' id=\\'28921244\\'>\\n      <td align=\"right\" valign=\"top\" class=\"title\"><span class=\"rank\">15.</span></td>      <td valign=\"top\" class=\"votelinks\"><center><a id=\\'up_28921244\\' href=\\'vote?id=28921244&amp;how=up&amp;goto=news\\'><div class=\\'votearrow\\' title=\\'upvote\\'></div></a></center></td><td class=\"title\"><a href=\"https://www.npr.org/2021/10/19/1047303559/fda-hearing-aid-prescription-over-the-counter\" class=\"titlelink\">The FDA wants you to be able to buy a hearing aid without a prescription</a><span class=\"sitebit comhead\"> (<a href=\"from?site=npr.org\"><span class=\"sitestr\">npr.org</span></a>)</span></td></tr><tr><td colspan=\"2\"></td><td class=\"subtext\">\\n        <span class=\"score\" id=\"score_28921244\">653 points</span> by <a href=\"user?id=cf100clunk\" class=\"hnuser\">cf100clunk</a> <span class=\"age\" title=\"2021-10-19T17:58:42\"><a href=\"item?id=28921244\">16 hours ago</a></span> <span id=\"unv_28921244\"></span> | <a href=\"hide?id=28921244&amp;goto=news\">hide</a> | <a href=\"item?id=28921244\">397&nbsp;comments</a>              </td></tr>\\n      <tr class=\"spacer\" style=\"height:5px\"></tr>\\n                <tr class=\\'athing\\' id=\\'28925318\\'>\\n      <td align=\"right\" valign=\"top\" class=\"title\"><span class=\"rank\">16.</span></td>      <td valign=\"top\" class=\"votelinks\"><center><a id=\\'up_28925318\\' href=\\'vote?id=28925318&amp;how=up&amp;goto=news\\'><div class=\\'votearrow\\' title=\\'upvote\\'></div></a></center></td><td class=\"title\"><a href=\"https://orionmagazine.org/article/a-river-reawakened/\" class=\"titlelink\">A River Reawakened</a><span class=\"sitebit comhead\"> (<a href=\"from?site=orionmagazine.org\"><span class=\"sitestr\">orionmagazine.org</span></a>)</span></td></tr><tr><td colspan=\"2\"></td><td class=\"subtext\">\\n        <span class=\"score\" id=\"score_28925318\">14 points</span> by <a href=\"user?id=swarmy\" class=\"hnuser\">swarmy</a> <span class=\"age\" title=\"2021-10-20T00:10:31\"><a href=\"item?id=28925318\">3 hours ago</a></span> <span id=\"unv_28925318\"></span> | <a href=\"hide?id=28925318&amp;goto=news\">hide</a> | <a href=\"item?id=28925318\">discuss</a>              </td></tr>\\n      <tr class=\"spacer\" style=\"height:5px\"></tr>\\n                <tr class=\\'athing\\' id=\\'28921083\\'>\\n      <td align=\"right\" valign=\"top\" class=\"title\"><span class=\"rank\">17.</span></td>      <td valign=\"top\" class=\"votelinks\"><center><a id=\\'up_28921083\\' href=\\'vote?id=28921083&amp;how=up&amp;goto=news\\'><div class=\\'votearrow\\' title=\\'upvote\\'></div></a></center></td><td class=\"title\"><a href=\"https://spectrum.ieee.org/recycled-batteries-good-as-newly-mined\" class=\"titlelink\">Study: Recycled Lithium Batteries as Good as Newly Mined</a><span class=\"sitebit comhead\"> (<a href=\"from?site=ieee.org\"><span class=\"sitestr\">ieee.org</span></a>)</span></td></tr><tr><td colspan=\"2\"></td><td class=\"subtext\">\\n        <span class=\"score\" id=\"score_28921083\">537 points</span> by <a href=\"user?id=mpweiher\" class=\"hnuser\">mpweiher</a> <span class=\"age\" title=\"2021-10-19T17:45:07\"><a href=\"item?id=28921083\">16 hours ago</a></span> <span id=\"unv_28921083\"></span> | <a href=\"hide?id=28921083&amp;goto=news\">hide</a> | <a href=\"item?id=28921083\">157&nbsp;comments</a>              </td></tr>\\n      <tr class=\"spacer\" style=\"height:5px\"></tr>\\n                <tr class=\\'athing\\' id=\\'28924300\\'>\\n      <td align=\"right\" valign=\"top\" class=\"title\"><span class=\"rank\">18.</span></td>      <td valign=\"top\" class=\"votelinks\"><center><a id=\\'up_28924300\\' href=\\'vote?id=28924300&amp;how=up&amp;goto=news\\'><div class=\\'votearrow\\' title=\\'upvote\\'></div></a></center></td><td class=\"title\"><a href=\"https://gds.blog.gov.uk/2021/10/19/single-sign-on-what-we-learned-during-our-identity-alpha/\" class=\"titlelink\">Single sign-on: What we learned during our identity alpha</a><span class=\"sitebit comhead\"> (<a href=\"from?site=gds.blog.gov.uk\"><span class=\"sitestr\">gds.blog.gov.uk</span></a>)</span></td></tr><tr><td colspan=\"2\"></td><td class=\"subtext\">\\n        <span class=\"score\" id=\"score_28924300\">116 points</span> by <a href=\"user?id=open-source-ux\" class=\"hnuser\">open-source-ux</a> <span class=\"age\" title=\"2021-10-19T21:57:29\"><a href=\"item?id=28924300\">12 hours ago</a></span> <span id=\"unv_28924300\"></span> | <a href=\"hide?id=28924300&amp;goto=news\">hide</a> | <a href=\"item?id=28924300\">59&nbsp;comments</a>              </td></tr>\\n      <tr class=\"spacer\" style=\"height:5px\"></tr>\\n                <tr class=\\'athing\\' id=\\'28920269\\'>\\n      <td align=\"right\" valign=\"top\" class=\"title\"><span class=\"rank\">19.</span></td>      <td valign=\"top\" class=\"votelinks\"><center><a id=\\'up_28920269\\' href=\\'vote?id=28920269&amp;how=up&amp;goto=news\\'><div class=\\'votearrow\\' title=\\'upvote\\'></div></a></center></td><td class=\"title\"><a href=\"https://fly.io/blog/32-bit-real-estate/\" class=\"titlelink\">32 Bit Real Estate</a><span class=\"sitebit comhead\"> (<a href=\"from?site=fly.io\"><span class=\"sitestr\">fly.io</span></a>)</span></td></tr><tr><td colspan=\"2\"></td><td class=\"subtext\">\\n        <span class=\"score\" id=\"score_28920269\">172 points</span> by <a href=\"user?id=craigkerstiens\" class=\"hnuser\">craigkerstiens</a> <span class=\"age\" title=\"2021-10-19T16:48:25\"><a href=\"item?id=28920269\">15 hours ago</a></span> <span id=\"unv_28920269\"></span> | <a href=\"hide?id=28920269&amp;goto=news\">hide</a> | <a href=\"item?id=28920269\">52&nbsp;comments</a>              </td></tr>\\n      <tr class=\"spacer\" style=\"height:5px\"></tr>\\n                <tr class=\\'athing\\' id=\\'28926555\\'>\\n      <td align=\"right\" valign=\"top\" class=\"title\"><span class=\"rank\">20.</span></td>      <td valign=\"top\" class=\"votelinks\"><center><a id=\\'up_28926555\\' href=\\'vote?id=28926555&amp;how=up&amp;goto=news\\'><div class=\\'votearrow\\' title=\\'upvote\\'></div></a></center></td><td class=\"title\"><a href=\"https://sec.report/Document/0001628280-21-020026/usertestingincs-1.htm\" class=\"titlelink\">UserTesting S-1</a><span class=\"sitebit comhead\"> (<a href=\"from?site=sec.report\"><span class=\"sitestr\">sec.report</span></a>)</span></td></tr><tr><td colspan=\"2\"></td><td class=\"subtext\">\\n        <span class=\"score\" id=\"score_28926555\">29 points</span> by <a href=\"user?id=mushufasa\" class=\"hnuser\">mushufasa</a> <span class=\"age\" title=\"2021-10-20T03:53:42\"><a href=\"item?id=28926555\">6 hours ago</a></span> <span id=\"unv_28926555\"></span> | <a href=\"hide?id=28926555&amp;goto=news\">hide</a> | <a href=\"item?id=28926555\">discuss</a>              </td></tr>\\n      <tr class=\"spacer\" style=\"height:5px\"></tr>\\n                <tr class=\\'athing\\' id=\\'28927367\\'>\\n      <td align=\"right\" valign=\"top\" class=\"title\"><span class=\"rank\">21.</span></td>      <td valign=\"top\" class=\"votelinks\"><center><a id=\\'up_28927367\\' href=\\'vote?id=28927367&amp;how=up&amp;goto=news\\'><div class=\\'votearrow\\' title=\\'upvote\\'></div></a></center></td><td class=\"title\"><a href=\"https://drawsql.app/templates\" class=\"titlelink\">Collection of real world database schemas from open-source packages</a><span class=\"sitebit comhead\"> (<a href=\"from?site=drawsql.app\"><span class=\"sitestr\">drawsql.app</span></a>)</span></td></tr><tr><td colspan=\"2\"></td><td class=\"subtext\">\\n        <span class=\"score\" id=\"score_28927367\">18 points</span> by <a href=\"user?id=vincent_s\" class=\"hnuser\">vincent_s</a> <span class=\"age\" title=\"2021-10-20T06:19:34\"><a href=\"item?id=28927367\">3 hours ago</a></span> <span id=\"unv_28927367\"></span> | <a href=\"hide?id=28927367&amp;goto=news\">hide</a> | <a href=\"item?id=28927367\">1&nbsp;comment</a>              </td></tr>\\n      <tr class=\"spacer\" style=\"height:5px\"></tr>\\n                <tr class=\\'athing\\' id=\\'28915744\\'>\\n      <td align=\"right\" valign=\"top\" class=\"title\"><span class=\"rank\">22.</span></td>      <td valign=\"top\" class=\"votelinks\"><center><a id=\\'up_28915744\\' href=\\'vote?id=28915744&amp;how=up&amp;goto=news\\'><div class=\\'votearrow\\' title=\\'upvote\\'></div></a></center></td><td class=\"title\"><a href=\"https://www.youtube.com/watch?v=sToqbqP0tFk\" class=\"titlelink\" rel=\"nofollow\">Music on a Clear Möbius Strip [video]</a><span class=\"sitebit comhead\"> (<a href=\"from?site=youtube.com\"><span class=\"sitestr\">youtube.com</span></a>)</span></td></tr><tr><td colspan=\"2\"></td><td class=\"subtext\">\\n        <span class=\"score\" id=\"score_28915744\">13 points</span> by <a href=\"user?id=sohkamyung\" class=\"hnuser\">sohkamyung</a> <span class=\"age\" title=\"2021-10-19T07:38:39\"><a href=\"item?id=28915744\">3 hours ago</a></span> <span id=\"unv_28915744\"></span> | <a href=\"hide?id=28915744&amp;goto=news\">hide</a> | <a href=\"item?id=28915744\">discuss</a>              </td></tr>\\n      <tr class=\"spacer\" style=\"height:5px\"></tr>\\n                <tr class=\\'athing\\' id=\\'28927775\\'>\\n      <td align=\"right\" valign=\"top\" class=\"title\"><span class=\"rank\">23.</span></td>      <td valign=\"top\" class=\"votelinks\"><center><a id=\\'up_28927775\\' href=\\'vote?id=28927775&amp;how=up&amp;goto=news\\'><div class=\\'votearrow\\' title=\\'upvote\\'></div></a></center></td><td class=\"title\"><a href=\"https://nypost.com/2021/10/19/i-found-an-amazon-folder-with-thousands-of-audio-recordings-from-my-home-gadgets/\" class=\"titlelink\">I found an Amazon folder with thousands of audio recordings from my home gadgets</a><span class=\"sitebit comhead\"> (<a href=\"from?site=nypost.com\"><span class=\"sitestr\">nypost.com</span></a>)</span></td></tr><tr><td colspan=\"2\"></td><td class=\"subtext\">\\n        <span class=\"score\" id=\"score_28927775\">54 points</span> by <a href=\"user?id=harambae\" class=\"hnuser\">harambae</a> <span class=\"age\" title=\"2021-10-20T07:25:27\"><a href=\"item?id=28927775\">2 hours ago</a></span> <span id=\"unv_28927775\"></span> | <a href=\"hide?id=28927775&amp;goto=news\">hide</a> | <a href=\"item?id=28927775\">30&nbsp;comments</a>              </td></tr>\\n      <tr class=\"spacer\" style=\"height:5px\"></tr>\\n                <tr class=\\'athing\\' id=\\'28926834\\'>\\n      <td align=\"right\" valign=\"top\" class=\"title\"><span class=\"rank\">24.</span></td>      <td valign=\"top\" class=\"votelinks\"><center><a id=\\'up_28926834\\' href=\\'vote?id=28926834&amp;how=up&amp;goto=news\\'><div class=\\'votearrow\\' title=\\'upvote\\'></div></a></center></td><td class=\"title\"><a href=\"https://miklos-martin.github.io//learn/fp/category-theory/2018/02/01/adventures-in-category-theory-the-algebra-of-types.html\" class=\"titlelink\">The Algebra of Types</a><span class=\"sitebit comhead\"> (<a href=\"from?site=miklos-martin.github.io\"><span class=\"sitestr\">miklos-martin.github.io</span></a>)</span></td></tr><tr><td colspan=\"2\"></td><td class=\"subtext\">\\n        <span class=\"score\" id=\"score_28926834\">23 points</span> by <a href=\"user?id=mathematically\" class=\"hnuser\">mathematically</a> <span class=\"age\" title=\"2021-10-20T04:40:01\"><a href=\"item?id=28926834\">5 hours ago</a></span> <span id=\"unv_28926834\"></span> | <a href=\"hide?id=28926834&amp;goto=news\">hide</a> | <a href=\"item?id=28926834\">4&nbsp;comments</a>              </td></tr>\\n      <tr class=\"spacer\" style=\"height:5px\"></tr>\\n                <tr class=\\'athing\\' id=\\'28919065\\'>\\n      <td align=\"right\" valign=\"top\" class=\"title\"><span class=\"rank\">25.</span></td>      <td valign=\"top\" class=\"votelinks\"><center><a id=\\'up_28919065\\' href=\\'vote?id=28919065&amp;how=up&amp;goto=news\\'><div class=\\'votearrow\\' title=\\'upvote\\'></div></a></center></td><td class=\"title\"><a href=\"https://neverworkintheory.org/2021/10/19/whats-wrong-with-my-benchmark-results.html\" class=\"titlelink\" rel=\"nofollow\">What\\'s Wrong with My Benchmark Results?</a><span class=\"sitebit comhead\"> (<a href=\"from?site=neverworkintheory.org\"><span class=\"sitestr\">neverworkintheory.org</span></a>)</span></td></tr><tr><td colspan=\"2\"></td><td class=\"subtext\">\\n        <span class=\"score\" id=\"score_28919065\">3 points</span> by <a href=\"user?id=zdw\" class=\"hnuser\">zdw</a> <span class=\"age\" title=\"2021-10-19T15:21:10\"><a href=\"item?id=28919065\">1 hour ago</a></span> <span id=\"unv_28919065\"></span> | <a href=\"hide?id=28919065&amp;goto=news\">hide</a> | <a href=\"item?id=28919065\">discuss</a>              </td></tr>\\n      <tr class=\"spacer\" style=\"height:5px\"></tr>\\n                <tr class=\\'athing\\' id=\\'28917023\\'>\\n      <td align=\"right\" valign=\"top\" class=\"title\"><span class=\"rank\">26.</span></td>      <td valign=\"top\" class=\"votelinks\"><center><a id=\\'up_28917023\\' href=\\'vote?id=28917023&amp;how=up&amp;goto=news\\'><div class=\\'votearrow\\' title=\\'upvote\\'></div></a></center></td><td class=\"title\"><a href=\"https://www.the74million.org/article/naep-long-term-unprecedented-performance-drop-american-13-year-olds/\" class=\"titlelink\">Long-term NAEP scores for 13-year-olds drop for first time since testing began</a><span class=\"sitebit comhead\"> (<a href=\"from?site=the74million.org\"><span class=\"sitestr\">the74million.org</span></a>)</span></td></tr><tr><td colspan=\"2\"></td><td class=\"subtext\">\\n        <span class=\"score\" id=\"score_28917023\">82 points</span> by <a href=\"user?id=Bostonian\" class=\"hnuser\">Bostonian</a> <span class=\"age\" title=\"2021-10-19T11:40:02\"><a href=\"item?id=28917023\">14 hours ago</a></span> <span id=\"unv_28917023\"></span> | <a href=\"hide?id=28917023&amp;goto=news\">hide</a> | <a href=\"item?id=28917023\">117&nbsp;comments</a>              </td></tr>\\n      <tr class=\"spacer\" style=\"height:5px\"></tr>\\n                <tr class=\\'athing\\' id=\\'28914927\\'>\\n      <td align=\"right\" valign=\"top\" class=\"title\"><span class=\"rank\">27.</span></td>      <td valign=\"top\" class=\"votelinks\"><center><a id=\\'up_28914927\\' href=\\'vote?id=28914927&amp;how=up&amp;goto=news\\'><div class=\\'votearrow\\' title=\\'upvote\\'></div></a></center></td><td class=\"title\"><a href=\"https://www.atlasobscura.com/articles/picnic-in-cemeteries-america\" class=\"titlelink\">When Americans picnicked in cemeteries</a><span class=\"sitebit comhead\"> (<a href=\"from?site=atlasobscura.com\"><span class=\"sitestr\">atlasobscura.com</span></a>)</span></td></tr><tr><td colspan=\"2\"></td><td class=\"subtext\">\\n        <span class=\"score\" id=\"score_28914927\">36 points</span> by <a href=\"user?id=samclemens\" class=\"hnuser\">samclemens</a> <span class=\"age\" title=\"2021-10-19T04:41:40\"><a href=\"item?id=28914927\">8 hours ago</a></span> <span id=\"unv_28914927\"></span> | <a href=\"hide?id=28914927&amp;goto=news\">hide</a> | <a href=\"item?id=28914927\">23&nbsp;comments</a>              </td></tr>\\n      <tr class=\"spacer\" style=\"height:5px\"></tr>\\n                <tr class=\\'athing\\' id=\\'28921247\\'>\\n      <td align=\"right\" valign=\"top\" class=\"title\"><span class=\"rank\">28.</span></td>      <td valign=\"top\" class=\"votelinks\"><center><a id=\\'up_28921247\\' href=\\'vote?id=28921247&amp;how=up&amp;goto=news\\'><div class=\\'votearrow\\' title=\\'upvote\\'></div></a></center></td><td class=\"title\"><a href=\"https://store.google.com/category/phones?hl=en-US\" class=\"titlelink\">Google Pixel 6 and Pixel 6 Pro</a><span class=\"sitebit comhead\"> (<a href=\"from?site=store.google.com\"><span class=\"sitestr\">store.google.com</span></a>)</span></td></tr><tr><td colspan=\"2\"></td><td class=\"subtext\">\\n        <span class=\"score\" id=\"score_28921247\">495 points</span> by <a href=\"user?id=mikeevans\" class=\"hnuser\">mikeevans</a> <span class=\"age\" title=\"2021-10-19T17:59:01\"><a href=\"item?id=28921247\">16 hours ago</a></span> <span id=\"unv_28921247\"></span> | <a href=\"hide?id=28921247&amp;goto=news\">hide</a> | <a href=\"item?id=28921247\">663&nbsp;comments</a>              </td></tr>\\n      <tr class=\"spacer\" style=\"height:5px\"></tr>\\n                <tr class=\\'athing\\' id=\\'28923231\\'>\\n      <td align=\"right\" valign=\"top\" class=\"title\"><span class=\"rank\">29.</span></td>      <td valign=\"top\" class=\"votelinks\"><center><a id=\\'up_28923231\\' href=\\'vote?id=28923231&amp;how=up&amp;goto=news\\'><div class=\\'votearrow\\' title=\\'upvote\\'></div></a></center></td><td class=\"title\"><a href=\"https://seclists.org/fulldisclosure/2021/Oct/17\" class=\"titlelink\">Outdated, vulnerable open source components shipped with Windows 10 and 11</a><span class=\"sitebit comhead\"> (<a href=\"from?site=seclists.org\"><span class=\"sitestr\">seclists.org</span></a>)</span></td></tr><tr><td colspan=\"2\"></td><td class=\"subtext\">\\n        <span class=\"score\" id=\"score_28923231\">242 points</span> by <a href=\"user?id=CTOSian\" class=\"hnuser\">CTOSian</a> <span class=\"age\" title=\"2021-10-19T20:19:35\"><a href=\"item?id=28923231\">13 hours ago</a></span> <span id=\"unv_28923231\"></span> | <a href=\"hide?id=28923231&amp;goto=news\">hide</a> | <a href=\"item?id=28923231\">73&nbsp;comments</a>              </td></tr>\\n      <tr class=\"spacer\" style=\"height:5px\"></tr>\\n                <tr class=\\'athing\\' id=\\'28922140\\'>\\n      <td align=\"right\" valign=\"top\" class=\"title\"><span class=\"rank\">30.</span></td>      <td valign=\"top\" class=\"votelinks\"><center><a id=\\'up_28922140\\' href=\\'vote?id=28922140&amp;how=up&amp;goto=news\\'><div class=\\'votearrow\\' title=\\'upvote\\'></div></a></center></td><td class=\"title\"><a href=\"https://alarmingdevelopment.org/?p=1570\" class=\"titlelink\">Version Control for Structure Editing</a><span class=\"sitebit comhead\"> (<a href=\"from?site=alarmingdevelopment.org\"><span class=\"sitestr\">alarmingdevelopment.org</span></a>)</span></td></tr><tr><td colspan=\"2\"></td><td class=\"subtext\">\\n        <span class=\"score\" id=\"score_28922140\">118 points</span> by <a href=\"user?id=mepian\" class=\"hnuser\">mepian</a> <span class=\"age\" title=\"2021-10-19T19:03:29\"><a href=\"item?id=28922140\">15 hours ago</a></span> <span id=\"unv_28922140\"></span> | <a href=\"hide?id=28922140&amp;goto=news\">hide</a> | <a href=\"item?id=28922140\">42&nbsp;comments</a>              </td></tr>\\n      <tr class=\"spacer\" style=\"height:5px\"></tr>\\n            <tr class=\"morespace\" style=\"height:10px\"></tr><tr><td colspan=\"2\"></td><td class=\"title\"><a href=\"news?p=2\" class=\"morelink\" rel=\"next\">More</a></td></tr>\\n  </table>\\n</td></tr>\\n<tr><td><img src=\"s.gif\" height=\"10\" width=\"0\"><table width=\"100%\" cellspacing=\"0\" cellpadding=\"1\"><tr><td bgcolor=\"#ff6600\"></td></tr></table><br><center><span class=\"yclinks\"><a href=\"newsguidelines.html\">Guidelines</a>\\n        | <a href=\"newsfaq.html\">FAQ</a>\\n        | <a href=\"lists\">Lists</a>\\n        | <a href=\"https://github.com/HackerNews/API\">API</a>\\n        | <a href=\"security.html\">Security</a>\\n        | <a href=\"http://www.ycombinator.com/legal/\">Legal</a>\\n        | <a href=\"http://www.ycombinator.com/apply/\">Apply to YC</a>\\n        | <a href=\"mailto:hn@ycombinator.com\">Contact</a></span><br><br><form method=\"get\" action=\"//hn.algolia.com/\">Search:\\n          <input type=\"text\" name=\"q\" value=\"\" size=\"17\" autocorrect=\"off\" spellcheck=\"false\" autocapitalize=\"off\" autocomplete=\"false\"></form>\\n            </center></td></tr>\\n      </table></center></body><script type=\\'text/javascript\\' src=\\'hn.js?kINVYarBkE7QJ6FelfS3\\'></script></html>\\n'"
      ]
     },
     "execution_count": 3,
     "metadata": {},
     "output_type": "execute_result"
    }
   ],
   "source": [
    "import requests\n",
    "\n",
    "res = requests.get(url)\n",
    "\n",
    "res.ok\n",
    "\n",
    "res.status_code\n",
    "\n",
    "# download web page (url)\n",
    "res.text"
   ]
  },
  {
   "cell_type": "code",
   "execution_count": 4,
   "id": "0f3878e3",
   "metadata": {},
   "outputs": [
    {
     "name": "stdout",
     "output_type": "stream",
     "text": [
      "1 Polish Amazon warehouse employee dies of overworking at 49 https://gloswielkopolski.pl/smierc-w-amazonie-potraktowali-go-jak-typowy-odpad-jak-smiecia-czy-49letni-pracownik-amazona-musial-umrzec/ar/c1-15844965\n",
      "2 Brave Search replaces Google as default search engine in the Brave browser https://brave.com/search-and-web-discovery/\n",
      "3 Optimizations Enabled by -ffast-Math https://kristerw.github.io/2021/10/19/fast-math/\n",
      "4 Avoid all links to kicad-pcb.org – Use kicad.org https://forum.kicad.info/t/warning-avoid-all-links-to-kicad-pcb-org-use-kicad-org/31521\n",
      "5 Simple Linux kernel memory corruption bug can lead to complete system compromise https://googleprojectzero.blogspot.com/2021/10/how-simple-linux-kernel-memory.html\n",
      "6 Google, Mozilla Close to Finalizing Sanitizer API for Chrome and Firefox Browse https://portswigger.net/daily-swig/google-mozilla-close-to-finalizing-sanitizer-api-for-chrome-and-firefox-browsers\n",
      "7 AI can see through you: CEOs' language under machine microscope https://www.reuters.com/technology/ai-can-see-through-you-ceos-language-under-machine-microscope-2021-10-20/\n",
      "8 New Optical Switch Up to 1000x Faster Than Transistors https://spectrum.ieee.org/optical-switch-1000x-faster-transistors\n",
      "9 Show HN: Combining UTC and local times (time zones) in one new clock https://thehtime.com\n",
      "10 Writer Liu Cixin on How His Visions of the Future Collide with Reality https://www.wsj.com/articles/writer-liu-cixin-on-how-his-visions-of-the-future-collide-with-reality-11633446000\n",
      "11 Overly analytical guide to escorting https://knowingless.com/2021/10/19/becoming-a-whorelord-the-overly-analytical-guide-to-escorting/\n",
      "12 Carbon-neutrality is a tale: the race for renewables is burning Europe's forests https://www.theguardian.com/world/2021/jan/14/carbon-neutrality-is-a-fairy-tale-how-the-race-for-renewables-is-burning-europes-forests\n",
      "13 Jerry (YC S17) Is Hiring Senior Software Engineer https://jobs.lever.co/getjerry/8a65340f-f253-4da6-8259-ad1fe527a7e8\n",
      "14 Who reads digitised Malay manuscripts? https://blogs.bl.uk/asian-and-african/2021/10/who-reads-digitised-malay-manuscripts.html\n",
      "15 The FDA wants you to be able to buy a hearing aid without a prescription https://www.npr.org/2021/10/19/1047303559/fda-hearing-aid-prescription-over-the-counter\n",
      "16 A River Reawakened https://orionmagazine.org/article/a-river-reawakened/\n",
      "17 Study: Recycled Lithium Batteries as Good as Newly Mined https://spectrum.ieee.org/recycled-batteries-good-as-newly-mined\n",
      "18 Single sign-on: What we learned during our identity alpha https://gds.blog.gov.uk/2021/10/19/single-sign-on-what-we-learned-during-our-identity-alpha/\n",
      "19 32 Bit Real Estate https://fly.io/blog/32-bit-real-estate/\n",
      "20 UserTesting S-1 https://sec.report/Document/0001628280-21-020026/usertestingincs-1.htm\n",
      "21 Collection of real world database schemas from open-source packages https://drawsql.app/templates\n",
      "22 Music on a Clear Möbius Strip [video] https://www.youtube.com/watch?v=sToqbqP0tFk\n",
      "23 I found an Amazon folder with thousands of audio recordings from my home gadgets https://nypost.com/2021/10/19/i-found-an-amazon-folder-with-thousands-of-audio-recordings-from-my-home-gadgets/\n",
      "24 The Algebra of Types https://miklos-martin.github.io//learn/fp/category-theory/2018/02/01/adventures-in-category-theory-the-algebra-of-types.html\n",
      "25 What's Wrong with My Benchmark Results? https://neverworkintheory.org/2021/10/19/whats-wrong-with-my-benchmark-results.html\n",
      "26 Long-term NAEP scores for 13-year-olds drop for first time since testing began https://www.the74million.org/article/naep-long-term-unprecedented-performance-drop-american-13-year-olds/\n",
      "27 When Americans picnicked in cemeteries https://www.atlasobscura.com/articles/picnic-in-cemeteries-america\n",
      "28 Google Pixel 6 and Pixel 6 Pro https://store.google.com/category/phones?hl=en-US\n",
      "29 Outdated, vulnerable open source components shipped with Windows 10 and 11 https://seclists.org/fulldisclosure/2021/Oct/17\n",
      "30 Version Control for Structure Editing https://alarmingdevelopment.org/?p=1570\n"
     ]
    }
   ],
   "source": [
    "from bs4 import BeautifulSoup\n",
    "\n",
    "soup = BeautifulSoup(res.text)\n",
    "\n",
    "# titles = soup.find_all(\"a\", class_ = \"titlelink\")\n",
    "\n",
    "titles = soup.find_all(\"a\", attrs={\"class\" : \"titlelink\"})\n",
    "\n",
    "for index, title in enumerate(titles):\n",
    "    print(index + 1, title.text, title['href'])"
   ]
  },
  {
   "cell_type": "code",
   "execution_count": 5,
   "id": "cf17cab2",
   "metadata": {},
   "outputs": [
    {
     "data": {
      "text/plain": [
       "<a class=\"titlelink\" href=\"https://gds.blog.gov.uk/2021/10/19/single-sign-on-what-we-learned-during-our-identity-alpha/\">Single sign-on: What we learned during our identity alpha</a>"
      ]
     },
     "execution_count": 5,
     "metadata": {},
     "output_type": "execute_result"
    }
   ],
   "source": [
    "# displays the content at html tag specified, e.g. <a> \n",
    "# with specific attributes such as class or id\n",
    "soup.find_all(\"a\", attrs={\"class\" : \"titlelink\"})[17]"
   ]
  },
  {
   "cell_type": "code",
   "execution_count": 6,
   "id": "cae95b64",
   "metadata": {},
   "outputs": [
    {
     "data": {
      "text/plain": [
       "{'href': 'https://gds.blog.gov.uk/2021/10/19/single-sign-on-what-we-learned-during-our-identity-alpha/',\n",
       " 'class': ['titlelink']}"
      ]
     },
     "execution_count": 6,
     "metadata": {},
     "output_type": "execute_result"
    }
   ],
   "source": [
    "# displays all the attributes of the output\n",
    "soup.find_all(\"a\", attrs={\"class\" : \"titlelink\"})[17].attrs"
   ]
  },
  {
   "cell_type": "code",
   "execution_count": 7,
   "id": "1f40e121",
   "metadata": {},
   "outputs": [
    {
     "data": {
      "text/plain": [
       "'https://gds.blog.gov.uk/2021/10/19/single-sign-on-what-we-learned-during-our-identity-alpha/'"
      ]
     },
     "execution_count": 7,
     "metadata": {},
     "output_type": "execute_result"
    }
   ],
   "source": [
    "# displays atrribute content such as 'href'\n",
    "soup.find_all(\"a\", attrs={\"class\" : \"titlelink\"})[17].attrs['href']"
   ]
  },
  {
   "cell_type": "code",
   "execution_count": null,
   "id": "048d54ae",
   "metadata": {},
   "outputs": [],
   "source": []
  },
  {
   "cell_type": "code",
   "execution_count": null,
   "id": "78f93d74",
   "metadata": {},
   "outputs": [],
   "source": []
  },
  {
   "cell_type": "code",
   "execution_count": 8,
   "id": "e75622db",
   "metadata": {
    "scrolled": true
   },
   "outputs": [
    {
     "data": {
      "text/plain": [
       "30"
      ]
     },
     "execution_count": 8,
     "metadata": {},
     "output_type": "execute_result"
    }
   ],
   "source": [
    "# selects and display elements with the class/id specified\n",
    "# if id, the parameter changes to #<id_label>\n",
    "# if class, the parameter changes to .<class_label>\n",
    "# returns list\n",
    "links = soup.select(\".titlelink\")\n",
    "len(links)"
   ]
  },
  {
   "cell_type": "code",
   "execution_count": 20,
   "id": "f10219ec",
   "metadata": {},
   "outputs": [
    {
     "name": "stdout",
     "output_type": "stream",
     "text": [
      "30\n"
     ]
    }
   ],
   "source": [
    "score_board = soup.find_all(\"td\", attrs = {\"class\" : \"subtext\"})\n",
    "\n",
    "scores = []\n",
    "\n",
    "for score in score_board:\n",
    "    scr = score.find('span', class_ = \"score\")\n",
    "    if scr == None:\n",
    "        scores.append(\"zero\")\n",
    "    else:\n",
    "        scr = scr.text.replace(\" points\", \"\").strip()\n",
    "        scores.append(scr)       \n",
    "        \n",
    "print(len(scores))"
   ]
  },
  {
   "cell_type": "code",
   "execution_count": 11,
   "id": "b9e99f58",
   "metadata": {
    "scrolled": true
   },
   "outputs": [
    {
     "name": "stdout",
     "output_type": "stream",
     "text": [
      "https://brave.com/search-and-web-discovery/\n",
      "332\n",
      "Brave Search replaces Google as default search engine in the Brave browser\n",
      "\n",
      "https://googleprojectzero.blogspot.com/2021/10/how-simple-linux-kernel-memory.html\n",
      "101\n",
      "Simple Linux kernel memory corruption bug can lead to complete system compromise\n",
      "\n",
      "https://www.reuters.com/technology/ai-can-see-through-you-ceos-language-under-machine-microscope-2021-10-20/\n",
      "20\n",
      "AI can see through you: CEOs' language under machine microscope\n",
      "\n",
      "https://store.google.com/category/phones?hl=en-US\n",
      "495\n",
      "Google Pixel 6 and Pixel 6 Pro\n",
      "\n"
     ]
    }
   ],
   "source": [
    "allow_keyword = [\"Data Science\", \"NLP\", \"ML\", \"Machine Learning\", \"AI\", \"Artificial Intelligence\", \"Google\", \"Python\", \"Linux\"]\n",
    "\n",
    "for link, score in zip(links, scores):\n",
    "    if sum([elem in link.text.split(\" \") for elem in allow_keyword]) > 0:\n",
    "        print(link.attrs[\"href\"])\n",
    "        print(score)\n",
    "        print(link.text)\n",
    "        print()"
   ]
  },
  {
   "cell_type": "code",
   "execution_count": null,
   "id": "a480d0d3",
   "metadata": {},
   "outputs": [],
   "source": []
  },
  {
   "cell_type": "code",
   "execution_count": null,
   "id": "fb23caf4",
   "metadata": {},
   "outputs": [],
   "source": [
    "import requests\n",
    "from bs4 import BeautifulSoup\n",
    "import time\n",
    "\n",
    "fkeyword = [\"Data Science\", \"NLP\", \"ML\", \"Machine Learning\", \"AI\", \"Artificial Intelligence\", \"Google\", \"Python\", \"Linux\"]\n",
    "\n",
    "while True:\n",
    "    \n",
    "    print(time.time())\n",
    "    \n",
    "    url = 'https://news.ycombinator.com/'\n",
    "    res = requests.get(url)\n",
    "    soup = BeautifulSoup(res.text)\n",
    "    \n",
    "    links = soup.select(\".titlelink\")\n",
    "#   scores = soup.select(\".score\")\n",
    "    score_board = soup.find_all(\"td\", attrs = {\"class\" : \"subtext\"})\n",
    "\n",
    "    scores = []\n",
    "\n",
    "    for score in score_board:\n",
    "        scr = score.find('span', class_ = \"score\")\n",
    "        if scr == None:\n",
    "            scores.append(\"zero\")\n",
    "        else:\n",
    "            scr = scr.text.replace(\" points\", \"\").strip()\n",
    "            scores.append(scr)       \n",
    "    \n",
    "    for link, score in zip(links, scores):\n",
    "        if sum([elem in link.text.split(\" \") for elem in fkeyword]) > 0:\n",
    "            print(link.attrs[\"href\"])\n",
    "            print(score.text.replace(\" points\", \"\"))\n",
    "            print(link.text)\n",
    "            print()\n",
    "            \n",
    "    time.sleep(24*60*60)"
   ]
  },
  {
   "cell_type": "code",
   "execution_count": null,
   "id": "9420e90a",
   "metadata": {},
   "outputs": [],
   "source": []
  },
  {
   "cell_type": "code",
   "execution_count": null,
   "id": "117ab200",
   "metadata": {},
   "outputs": [],
   "source": []
  },
  {
   "cell_type": "code",
   "execution_count": null,
   "id": "86a45262",
   "metadata": {},
   "outputs": [],
   "source": []
  },
  {
   "cell_type": "code",
   "execution_count": 32,
   "id": "42c7eba9",
   "metadata": {},
   "outputs": [],
   "source": [
    "import csv\n",
    "\n",
    "with open(\"ouput.csv\", 'w', newline='') as csvfile:\n",
    "    csvwriter = csv.writer(csvfile)\n",
    "    \n",
    "    csvwriter.writerow([\"Topic\", \"Link\", \"score\"])\n",
    "    \n",
    "    for link, score, in zip(links, scores):\n",
    "        # csvwriter.writerow() method takes a list of values\n",
    "        csvwriter.writerow([link.text, link.attrs[\"href\"], score])"
   ]
  },
  {
   "cell_type": "code",
   "execution_count": 34,
   "id": "2de8097a",
   "metadata": {},
   "outputs": [],
   "source": [
    "# you can zip list of different length."
   ]
  },
  {
   "cell_type": "code",
   "execution_count": null,
   "id": "57f87bc2",
   "metadata": {},
   "outputs": [],
   "source": []
  }
 ],
 "metadata": {
  "kernelspec": {
   "display_name": "Python 3",
   "language": "python",
   "name": "python3"
  },
  "language_info": {
   "codemirror_mode": {
    "name": "ipython",
    "version": 3
   },
   "file_extension": ".py",
   "mimetype": "text/x-python",
   "name": "python",
   "nbconvert_exporter": "python",
   "pygments_lexer": "ipython3",
   "version": "3.8.8"
  }
 },
 "nbformat": 4,
 "nbformat_minor": 5
}
